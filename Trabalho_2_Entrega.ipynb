{
 "cells": [
  {
   "cell_type": "markdown",
   "id": "94f27b7e",
   "metadata": {},
   "source": [
    "Importando as bibliotecas que serão usadas"
   ]
  },
  {
   "cell_type": "code",
   "execution_count": 1,
   "id": "5a3a673c",
   "metadata": {},
   "outputs": [],
   "source": [
    "import moviepy.editor as mpe\n",
    "import numpy as np\n",
    "import matplotlib.pyplot as plt"
   ]
  },
  {
   "cell_type": "markdown",
   "id": "5c147f96",
   "metadata": {},
   "source": [
    "Abrindo o vídeo que desejamos manipular"
   ]
  },
  {
   "cell_type": "code",
   "execution_count": 2,
   "id": "47cecb61",
   "metadata": {},
   "outputs": [],
   "source": [
    "video = mpe.VideoFileClip(\"leitura.mp4\")"
   ]
  },
  {
   "cell_type": "markdown",
   "id": "9c57ad0c",
   "metadata": {},
   "source": [
    "Fazendo a reflexão no eixo y a cada 20s"
   ]
  },
  {
   "cell_type": "code",
   "execution_count": 3,
   "id": "b9d1d232",
   "metadata": {},
   "outputs": [],
   "source": [
    "def ref_frame(imagem):\n",
    "    img_refl = np.zeros(shape=imagem.shape, dtype=np.uint8)\n",
    "    img_refl[::-1, ::1] = imagem\n",
    "\n",
    "    return img_refl\n",
    "\n",
    "\n",
    "inicio = 0\n",
    "fim = int(video.duration)\n",
    "\n",
    "# Cria os subclips de 20 em 20 segundos e aplica ref_frame\n",
    "clips_refletidos = []\n",
    "for i, t in enumerate (range(inicio, fim, 20)):\n",
    "    subclip = video.subclip(t, min(t + 20, video.duration))\n",
    "\n",
    "    #vai refletir só subclips ímpares (1,3,5...) pra que fique alternado\n",
    "    if i % 2 != 0:\n",
    "        subclip = subclip.fl_image(ref_frame)\n",
    "\n",
    "\n",
    "    clips_refletidos.append(subclip)\n",
    "\n",
    "video_intermediario = mpe.concatenate_videoclips(clips_refletidos)\n"
   ]
  },
  {
   "cell_type": "markdown",
   "id": "37836943",
   "metadata": {},
   "source": [
    "Diminuindo o som gradativamente a cada 30s, e deixando totalmente mudo nos últimos 10s"
   ]
  },
  {
   "cell_type": "code",
   "execution_count": 4,
   "id": "636f6eac",
   "metadata": {},
   "outputs": [],
   "source": [
    "def diminui_som(audio, t):\n",
    "    frame = audio(t)\n",
    "    tempo = t if isinstance(t, (int, float)) else t[0]\n",
    "    duracao = video_intermediario.duration\n",
    "    tempo_restante = duracao - tempo\n",
    "\n",
    "    if tempo_restante <= 10:\n",
    "        vol = 0.0\n",
    "    else:\n",
    "        vol = 0.5 ** (tempo // 30)\n",
    "\n",
    "    frame[:, 0] *= vol\n",
    "    frame[:, 1] *= vol\n",
    "    return frame\n",
    "\n",
    "\n",
    "audio_novo = video_intermediario.audio.fl(diminui_som)\n",
    "video_mudo = video_intermediario.set_audio(audio_novo)\n"
   ]
  },
  {
   "cell_type": "markdown",
   "id": "9ee387d6",
   "metadata": {},
   "source": [
    "Cortando o vídeo de 60 a 80 segundos e tirando essa parte de 20 segundos dele"
   ]
  },
  {
   "cell_type": "code",
   "execution_count": 5,
   "id": "a1e5220d",
   "metadata": {},
   "outputs": [],
   "source": [
    "video_corte = video_mudo.subclip(60,80)\n",
    "video_cortado = mpe.concatenate_videoclips([video_mudo.subclip(0,60), video_mudo.subclip(80)])\n"
   ]
  },
  {
   "cell_type": "markdown",
   "id": "50a80752",
   "metadata": {},
   "source": [
    "Inserindo ao fim do vídeo os 20 segundos que foram cortados"
   ]
  },
  {
   "cell_type": "code",
   "execution_count": 6,
   "id": "19a077d5",
   "metadata": {},
   "outputs": [],
   "source": [
    "video_final = mpe.concatenate_videoclips([video_cortado, video_corte])"
   ]
  },
  {
   "cell_type": "markdown",
   "id": "6401af5c",
   "metadata": {},
   "source": [
    "Salvando o vídeo finalizado"
   ]
  },
  {
   "cell_type": "code",
   "execution_count": 7,
   "id": "52310cf9",
   "metadata": {},
   "outputs": [
    {
     "name": "stdout",
     "output_type": "stream",
     "text": [
      "Moviepy - Building video leitura_final.mp4.\n",
      "MoviePy - Writing audio in leitura_finalTEMP_MPY_wvf_snd.mp3\n"
     ]
    },
    {
     "name": "stderr",
     "output_type": "stream",
     "text": [
      "                                                                     \r"
     ]
    },
    {
     "name": "stdout",
     "output_type": "stream",
     "text": [
      "MoviePy - Done.\n",
      "Moviepy - Writing video leitura_final.mp4\n",
      "\n"
     ]
    },
    {
     "name": "stderr",
     "output_type": "stream",
     "text": [
      "                                                                \r"
     ]
    },
    {
     "name": "stdout",
     "output_type": "stream",
     "text": [
      "Moviepy - Done !\n",
      "Moviepy - video ready leitura_final.mp4\n"
     ]
    }
   ],
   "source": [
    "video_final.write_videofile(\"leitura_final.mp4\")"
   ]
  }
 ],
 "metadata": {
  "kernelspec": {
   "display_name": ".venv",
   "language": "python",
   "name": "python3"
  },
  "language_info": {
   "codemirror_mode": {
    "name": "ipython",
    "version": 3
   },
   "file_extension": ".py",
   "mimetype": "text/x-python",
   "name": "python",
   "nbconvert_exporter": "python",
   "pygments_lexer": "ipython3",
   "version": "3.12.3"
  }
 },
 "nbformat": 4,
 "nbformat_minor": 5
}
